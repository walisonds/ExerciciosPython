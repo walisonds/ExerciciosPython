{
  "nbformat": 4,
  "nbformat_minor": 0,
  "metadata": {
    "colab": {
      "provenance": [],
      "authorship_tag": "ABX9TyNcVNvgeQxy9Rf14sy0GIdv",
      "include_colab_link": true
    },
    "kernelspec": {
      "name": "python3",
      "display_name": "Python 3"
    },
    "language_info": {
      "name": "python"
    }
  },
  "cells": [
    {
      "cell_type": "markdown",
      "metadata": {
        "id": "view-in-github",
        "colab_type": "text"
      },
      "source": [
        "<a href=\"https://colab.research.google.com/github/walisonds/ExerciciosPython/blob/main/sequencia.ipynb\" target=\"_parent\"><img src=\"https://colab.research.google.com/assets/colab-badge.svg\" alt=\"Open In Colab\"/></a>"
      ]
    },
    {
      "cell_type": "code",
      "source": [
        "while True:\n",
        "    numero = int(input(\"Digite um número inteiro: \"))\n",
        "    while numero <=0:\n",
        "      numero = int(input(\"Digite um número inteiro: \"))\n",
        "    sequencia = [int((2**x + 2)/2) for x in range(1,numero)]\n",
        "    print(sequencia, end ='')\n",
        "    exit = input(\"Digite 's' para sair ou qualquer coisa para continuar: \\n\" )\n",
        "    if exit.lower() =='s':\n",
        "      break\n",
        "   "
      ],
      "metadata": {
        "id": "cAZLjmlCw1F2"
      },
      "execution_count": null,
      "outputs": []
    }
  ]
}