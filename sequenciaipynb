{
  "nbformat": 4,
  "nbformat_minor": 0,
  "metadata": {
    "colab": {
      "provenance": [],
      "authorship_tag": "ABX9TyNi0zLu0+bWJMj23MfrTp/s",
      "include_colab_link": true
    },
    "kernelspec": {
      "name": "python3",
      "display_name": "Python 3"
    },
    "language_info": {
      "name": "python"
    }
  },
  "cells": [
    {
      "cell_type": "markdown",
      "metadata": {
        "id": "view-in-github",
        "colab_type": "text"
      },
      "source": [
        "<a href=\"https://colab.research.google.com/github/walisonds/ExerciciosPython/blob/main/sequenciaipynb\" target=\"_parent\"><img src=\"https://colab.research.google.com/assets/colab-badge.svg\" alt=\"Open In Colab\"/></a>"
      ]
    },
    {
      "cell_type": "markdown",
      "source": [
        "Crie um algoritmo em python que leia um número inteiro positivo N e preencha uma lista com os N primeiros números da sequência abaixo. O primeiro número da sequência é o 2. Após percorra a lista e imprima os números na tela.\n",
        "\n",
        "2 3 5 9 17 33 65 129 257"
      ],
      "metadata": {
        "id": "aEVKZoBT-iYf"
      }
    },
    {
      "cell_type": "code",
      "source": [
        "while True:\n",
        "    numero = int(input(\"Digite um número inteiro: \"))\n",
        "    while numero <=0:\n",
        "      numero = int(input(\"Digite um número inteiro: \"))\n",
        "    sequencia = [int((2**x + 2)/2) for x in range(1,numero)]\n",
        "    print(sequencia, end ='')\n",
        "    exit = input(\"Digite 's' para sair ou qualquer coisa para continuar: \\n\" )\n",
        "    if exit.lower() =='s':\n",
        "      break\n",
        "   "
      ],
      "metadata": {
        "id": "cAZLjmlCw1F2"
      },
      "execution_count": null,
      "outputs": []
    }
  ]
}