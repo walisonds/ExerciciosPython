{
  "nbformat": 4,
  "nbformat_minor": 0,
  "metadata": {
    "colab": {
      "provenance": [],
      "authorship_tag": "ABX9TyMAiM8SkHfPNlY4I+Tzj0ws",
      "include_colab_link": true
    },
    "kernelspec": {
      "name": "python3",
      "display_name": "Python 3"
    },
    "language_info": {
      "name": "python"
    }
  },
  "cells": [
    {
      "cell_type": "markdown",
      "metadata": {
        "id": "view-in-github",
        "colab_type": "text"
      },
      "source": [
        "<a href=\"https://colab.research.google.com/github/walisonds/ExerciciosPython/blob/main/palindromo.ipynb\" target=\"_parent\"><img src=\"https://colab.research.google.com/assets/colab-badge.svg\" alt=\"Open In Colab\"/></a>"
      ]
    },
    {
      "cell_type": "markdown",
      "source": [
        "Um palíndromo é uma palavra ou frase que ao ser lida da esquerda pra direita, ou da direita pra esquerda retorna o mesmo resultado. \n",
        "Ex:  ANA, RADAR, socorram-me subi no ônibus em Marrocos...\n",
        "\n",
        "Crie um algoritmo em python que leia uma palavra ou frase e diga se é ou não um palíndromo. Desconsidere os espaços em branco e maiúsculas e minúsculas."
      ],
      "metadata": {
        "id": "fmE_Xtduix-0"
      }
    },
    {
      "cell_type": "code",
      "execution_count": null,
      "metadata": {
        "id": "11lD-dxYc-rB"
      },
      "outputs": [],
      "source": [
        "palavra = input('Digite uma palavra ou frase: ').lower()\n",
        "palavra_formatada = palavra.replace(' ', '')\n",
        "palavra_reverso = palavra_formatada[::-1]\n",
        "if palavra_reverso == palavra_formatada:\n",
        "    print(f'A palavra {palavra} é um palíndromo!')\n",
        "else:\n",
        "    print(f'A palavra {palavra} não é um palíndromo!')"
      ]
    }
  ]
}